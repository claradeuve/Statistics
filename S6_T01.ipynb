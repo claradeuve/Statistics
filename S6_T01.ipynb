{
 "cells": [
  {
   "cell_type": "markdown",
   "id": "855f63a8",
   "metadata": {},
   "source": [
    "## Exercici 1\n",
    "Agafa un conjunt de dades de tema esportiu que t'agradi i selecciona un atribut del conjunt de dades. Calcula la moda, la mediana, la desviació estàndard i la mitjana aritmètica. "
   ]
  },
  {
   "cell_type": "code",
   "execution_count": 1,
   "id": "9daa099e",
   "metadata": {},
   "outputs": [
    {
     "name": "stdout",
     "output_type": "stream",
     "text": [
      "<class 'pandas.core.frame.DataFrame'>\n",
      "RangeIndex: 444 entries, 0 to 443\n",
      "Data columns (total 18 columns):\n",
      " #   Column                    Non-Null Count  Dtype  \n",
      "---  ------                    --------------  -----  \n",
      " 0   Name                      444 non-null    object \n",
      " 1   Scientific Name           444 non-null    object \n",
      " 2   Indicator or Other Notes  140 non-null    object \n",
      " 3   Category                  444 non-null    object \n",
      " 4   State                     45 non-null     object \n",
      " 5   Kingdom                   444 non-null    object \n",
      " 6   Phylum                    444 non-null    object \n",
      " 7   Class                     444 non-null    object \n",
      " 8   Order                     444 non-null    object \n",
      " 9   Family                    444 non-null    object \n",
      " 10  Genus                     444 non-null    object \n",
      " 11  Conservation status       443 non-null    object \n",
      " 12  Length Min (cm)           444 non-null    float64\n",
      " 13  Length Max (cm)           444 non-null    float64\n",
      " 14  Body Mass Min (g)         444 non-null    float64\n",
      " 15  Body Mass Max (g)         444 non-null    float64\n",
      " 16  Wingspan Min (cm)         443 non-null    float64\n",
      " 17  Wingspan Max (cm)         443 non-null    float64\n",
      "dtypes: float64(6), object(12)\n",
      "memory usage: 62.6+ KB\n",
      "<class 'pandas.core.frame.DataFrame'>\n",
      "RangeIndex: 444 entries, 0 to 443\n",
      "Data columns (total 18 columns):\n",
      " #   Column                    Non-Null Count  Dtype  \n",
      "---  ------                    --------------  -----  \n",
      " 0   Name                      444 non-null    object \n",
      " 1   Scientific Name           444 non-null    object \n",
      " 2   Indicator or Other Notes  444 non-null    object \n",
      " 3   Category                  444 non-null    object \n",
      " 4   State                     444 non-null    object \n",
      " 5   Kingdom                   444 non-null    object \n",
      " 6   Phylum                    444 non-null    object \n",
      " 7   Class                     444 non-null    object \n",
      " 8   Order                     444 non-null    object \n",
      " 9   Family                    444 non-null    object \n",
      " 10  Genus                     444 non-null    object \n",
      " 11  Conservation status       444 non-null    object \n",
      " 12  Length Min (cm)           444 non-null    float64\n",
      " 13  Length Max (cm)           444 non-null    float64\n",
      " 14  Body Mass Min (g)         444 non-null    float64\n",
      " 15  Body Mass Max (g)         444 non-null    float64\n",
      " 16  Wingspan Min (cm)         444 non-null    float64\n",
      " 17  Wingspan Max (cm)         444 non-null    float64\n",
      "dtypes: float64(6), object(12)\n",
      "memory usage: 62.6+ KB\n",
      "None \n",
      "\n",
      "\n"
     ]
    },
    {
     "data": {
      "text/html": [
       "<div>\n",
       "<style scoped>\n",
       "    .dataframe tbody tr th:only-of-type {\n",
       "        vertical-align: middle;\n",
       "    }\n",
       "\n",
       "    .dataframe tbody tr th {\n",
       "        vertical-align: top;\n",
       "    }\n",
       "\n",
       "    .dataframe thead th {\n",
       "        text-align: right;\n",
       "    }\n",
       "</style>\n",
       "<table border=\"1\" class=\"dataframe\">\n",
       "  <thead>\n",
       "    <tr style=\"text-align: right;\">\n",
       "      <th></th>\n",
       "      <th>Name</th>\n",
       "      <th>Scientific Name</th>\n",
       "      <th>Indicator or Other Notes</th>\n",
       "      <th>Category</th>\n",
       "      <th>State</th>\n",
       "      <th>Kingdom</th>\n",
       "      <th>Phylum</th>\n",
       "      <th>Class</th>\n",
       "      <th>Order</th>\n",
       "      <th>Family</th>\n",
       "      <th>Genus</th>\n",
       "      <th>Conservation status</th>\n",
       "      <th>Length Min (cm)</th>\n",
       "      <th>Length Max (cm)</th>\n",
       "      <th>Body Mass Min (g)</th>\n",
       "      <th>Body Mass Max (g)</th>\n",
       "      <th>Wingspan Min (cm)</th>\n",
       "      <th>Wingspan Max (cm)</th>\n",
       "    </tr>\n",
       "  </thead>\n",
       "  <tbody>\n",
       "    <tr>\n",
       "      <th>0</th>\n",
       "      <td>Black-bellied whistling-duck</td>\n",
       "      <td>Dendrocygna autumnalis</td>\n",
       "      <td>(A)</td>\n",
       "      <td>Ducks, geese, and waterfowl</td>\n",
       "      <td>Minnesota</td>\n",
       "      <td>Animalia</td>\n",
       "      <td>Chordata</td>\n",
       "      <td>Aves</td>\n",
       "      <td>Anseriformes</td>\n",
       "      <td>Anatidae</td>\n",
       "      <td>Dendrocygna</td>\n",
       "      <td>LC</td>\n",
       "      <td>47.0</td>\n",
       "      <td>56.0</td>\n",
       "      <td>652.0</td>\n",
       "      <td>1020.0</td>\n",
       "      <td>76.0</td>\n",
       "      <td>94.0</td>\n",
       "    </tr>\n",
       "    <tr>\n",
       "      <th>1</th>\n",
       "      <td>Fulvous whistling-duck</td>\n",
       "      <td>Dendrocygna bicolor</td>\n",
       "      <td>(A)</td>\n",
       "      <td>Ducks, geese, and waterfowl</td>\n",
       "      <td>Minnesota</td>\n",
       "      <td>Animalia</td>\n",
       "      <td>Chordata</td>\n",
       "      <td>Aves</td>\n",
       "      <td>Anseriformes</td>\n",
       "      <td>Anatidae</td>\n",
       "      <td>Dendrocygna</td>\n",
       "      <td>LC</td>\n",
       "      <td>45.0</td>\n",
       "      <td>53.0</td>\n",
       "      <td>712.0</td>\n",
       "      <td>1050.0</td>\n",
       "      <td>85.0</td>\n",
       "      <td>93.0</td>\n",
       "    </tr>\n",
       "    <tr>\n",
       "      <th>2</th>\n",
       "      <td>Snow goose</td>\n",
       "      <td>Anser caerulescens</td>\n",
       "      <td>Undefined</td>\n",
       "      <td>Ducks, geese, and waterfowl</td>\n",
       "      <td>Minnesota</td>\n",
       "      <td>Animalia</td>\n",
       "      <td>Chordata</td>\n",
       "      <td>Aves</td>\n",
       "      <td>Anseriformes</td>\n",
       "      <td>Anatidae</td>\n",
       "      <td>Anser</td>\n",
       "      <td>LC</td>\n",
       "      <td>64.0</td>\n",
       "      <td>79.0</td>\n",
       "      <td>2050.0</td>\n",
       "      <td>4050.0</td>\n",
       "      <td>135.0</td>\n",
       "      <td>165.0</td>\n",
       "    </tr>\n",
       "    <tr>\n",
       "      <th>3</th>\n",
       "      <td>Ross's goose</td>\n",
       "      <td>Anser rossii</td>\n",
       "      <td>Undefined</td>\n",
       "      <td>Ducks, geese, and waterfowl</td>\n",
       "      <td>Minnesota</td>\n",
       "      <td>Animalia</td>\n",
       "      <td>Chordata</td>\n",
       "      <td>Aves</td>\n",
       "      <td>Anseriformes</td>\n",
       "      <td>Anatidae</td>\n",
       "      <td>Anser</td>\n",
       "      <td>LC</td>\n",
       "      <td>57.3</td>\n",
       "      <td>64.0</td>\n",
       "      <td>1066.0</td>\n",
       "      <td>1567.0</td>\n",
       "      <td>113.0</td>\n",
       "      <td>116.0</td>\n",
       "    </tr>\n",
       "    <tr>\n",
       "      <th>4</th>\n",
       "      <td>Greater white-fronted goose</td>\n",
       "      <td>Anser albifrons</td>\n",
       "      <td>Undefined</td>\n",
       "      <td>Ducks, geese, and waterfowl</td>\n",
       "      <td>Minnesota</td>\n",
       "      <td>Animalia</td>\n",
       "      <td>Chordata</td>\n",
       "      <td>Aves</td>\n",
       "      <td>Anseriformes</td>\n",
       "      <td>Anatidae</td>\n",
       "      <td>Anser</td>\n",
       "      <td>LC</td>\n",
       "      <td>64.0</td>\n",
       "      <td>81.0</td>\n",
       "      <td>1930.0</td>\n",
       "      <td>3310.0</td>\n",
       "      <td>130.0</td>\n",
       "      <td>165.0</td>\n",
       "    </tr>\n",
       "    <tr>\n",
       "      <th>...</th>\n",
       "      <td>...</td>\n",
       "      <td>...</td>\n",
       "      <td>...</td>\n",
       "      <td>...</td>\n",
       "      <td>...</td>\n",
       "      <td>...</td>\n",
       "      <td>...</td>\n",
       "      <td>...</td>\n",
       "      <td>...</td>\n",
       "      <td>...</td>\n",
       "      <td>...</td>\n",
       "      <td>...</td>\n",
       "      <td>...</td>\n",
       "      <td>...</td>\n",
       "      <td>...</td>\n",
       "      <td>...</td>\n",
       "      <td>...</td>\n",
       "      <td>...</td>\n",
       "    </tr>\n",
       "    <tr>\n",
       "      <th>439</th>\n",
       "      <td>Blue grosbeak</td>\n",
       "      <td>Passerina caerulea</td>\n",
       "      <td>Undefined</td>\n",
       "      <td>Cardinals and allies</td>\n",
       "      <td>Undefined</td>\n",
       "      <td>Animalia</td>\n",
       "      <td>Chordata</td>\n",
       "      <td>Aves</td>\n",
       "      <td>Passeriformes</td>\n",
       "      <td>Cardinalidae</td>\n",
       "      <td>Passerina</td>\n",
       "      <td>LC</td>\n",
       "      <td>14.0</td>\n",
       "      <td>19.0</td>\n",
       "      <td>26.0</td>\n",
       "      <td>31.5</td>\n",
       "      <td>26.0</td>\n",
       "      <td>29.0</td>\n",
       "    </tr>\n",
       "    <tr>\n",
       "      <th>440</th>\n",
       "      <td>Lazuli bunting</td>\n",
       "      <td>Passerina amoena</td>\n",
       "      <td>(C)</td>\n",
       "      <td>Cardinals and allies</td>\n",
       "      <td>Undefined</td>\n",
       "      <td>Animalia</td>\n",
       "      <td>Chordata</td>\n",
       "      <td>Aves</td>\n",
       "      <td>Passeriformes</td>\n",
       "      <td>Cardinalidae</td>\n",
       "      <td>Passerina</td>\n",
       "      <td>LC</td>\n",
       "      <td>13.0</td>\n",
       "      <td>15.0</td>\n",
       "      <td>13.0</td>\n",
       "      <td>18.0</td>\n",
       "      <td>22.0</td>\n",
       "      <td>22.0</td>\n",
       "    </tr>\n",
       "    <tr>\n",
       "      <th>441</th>\n",
       "      <td>Indigo bunting</td>\n",
       "      <td>Passerina cyanea</td>\n",
       "      <td>Undefined</td>\n",
       "      <td>Cardinals and allies</td>\n",
       "      <td>Undefined</td>\n",
       "      <td>Animalia</td>\n",
       "      <td>Chordata</td>\n",
       "      <td>Aves</td>\n",
       "      <td>Passeriformes</td>\n",
       "      <td>Cardinalidae</td>\n",
       "      <td>Passerina</td>\n",
       "      <td>LC</td>\n",
       "      <td>11.5</td>\n",
       "      <td>15.0</td>\n",
       "      <td>11.2</td>\n",
       "      <td>21.4</td>\n",
       "      <td>18.0</td>\n",
       "      <td>23.0</td>\n",
       "    </tr>\n",
       "    <tr>\n",
       "      <th>442</th>\n",
       "      <td>Painted bunting</td>\n",
       "      <td>Passerina ciris</td>\n",
       "      <td>(C)</td>\n",
       "      <td>Cardinals and allies</td>\n",
       "      <td>Undefined</td>\n",
       "      <td>Animalia</td>\n",
       "      <td>Chordata</td>\n",
       "      <td>Aves</td>\n",
       "      <td>Passeriformes</td>\n",
       "      <td>Cardinalidae</td>\n",
       "      <td>Passerina</td>\n",
       "      <td>LC</td>\n",
       "      <td>12.0</td>\n",
       "      <td>14.0</td>\n",
       "      <td>13.0</td>\n",
       "      <td>19.0</td>\n",
       "      <td>21.0</td>\n",
       "      <td>23.0</td>\n",
       "    </tr>\n",
       "    <tr>\n",
       "      <th>443</th>\n",
       "      <td>Dickcissel</td>\n",
       "      <td>Spiza americana</td>\n",
       "      <td>Undefined</td>\n",
       "      <td>Cardinals and allies</td>\n",
       "      <td>Undefined</td>\n",
       "      <td>Animalia</td>\n",
       "      <td>Chordata</td>\n",
       "      <td>Aves</td>\n",
       "      <td>Passeriformes</td>\n",
       "      <td>Cardinalidae</td>\n",
       "      <td>Spiza</td>\n",
       "      <td>LC</td>\n",
       "      <td>14.0</td>\n",
       "      <td>16.0</td>\n",
       "      <td>25.6</td>\n",
       "      <td>38.4</td>\n",
       "      <td>24.8</td>\n",
       "      <td>26.0</td>\n",
       "    </tr>\n",
       "  </tbody>\n",
       "</table>\n",
       "<p>444 rows × 18 columns</p>\n",
       "</div>"
      ],
      "text/plain": [
       "                             Name         Scientific Name  \\\n",
       "0    Black-bellied whistling-duck  Dendrocygna autumnalis   \n",
       "1          Fulvous whistling-duck     Dendrocygna bicolor   \n",
       "2                      Snow goose      Anser caerulescens   \n",
       "3                    Ross's goose            Anser rossii   \n",
       "4     Greater white-fronted goose         Anser albifrons   \n",
       "..                            ...                     ...   \n",
       "439                 Blue grosbeak      Passerina caerulea   \n",
       "440                Lazuli bunting        Passerina amoena   \n",
       "441                Indigo bunting        Passerina cyanea   \n",
       "442               Painted bunting         Passerina ciris   \n",
       "443                    Dickcissel         Spiza americana   \n",
       "\n",
       "    Indicator or Other Notes                     Category      State  \\\n",
       "0                        (A)  Ducks, geese, and waterfowl  Minnesota   \n",
       "1                        (A)  Ducks, geese, and waterfowl  Minnesota   \n",
       "2                  Undefined  Ducks, geese, and waterfowl  Minnesota   \n",
       "3                  Undefined  Ducks, geese, and waterfowl  Minnesota   \n",
       "4                  Undefined  Ducks, geese, and waterfowl  Minnesota   \n",
       "..                       ...                          ...        ...   \n",
       "439                Undefined         Cardinals and allies  Undefined   \n",
       "440                      (C)         Cardinals and allies  Undefined   \n",
       "441                Undefined         Cardinals and allies  Undefined   \n",
       "442                      (C)         Cardinals and allies  Undefined   \n",
       "443                Undefined         Cardinals and allies  Undefined   \n",
       "\n",
       "      Kingdom    Phylum Class          Order        Family        Genus  \\\n",
       "0    Animalia  Chordata  Aves   Anseriformes      Anatidae  Dendrocygna   \n",
       "1    Animalia  Chordata  Aves   Anseriformes      Anatidae  Dendrocygna   \n",
       "2    Animalia  Chordata  Aves   Anseriformes      Anatidae        Anser   \n",
       "3    Animalia  Chordata  Aves   Anseriformes      Anatidae        Anser   \n",
       "4    Animalia  Chordata  Aves   Anseriformes      Anatidae        Anser   \n",
       "..        ...       ...   ...            ...           ...          ...   \n",
       "439  Animalia  Chordata  Aves  Passeriformes  Cardinalidae    Passerina   \n",
       "440  Animalia  Chordata  Aves  Passeriformes  Cardinalidae    Passerina   \n",
       "441  Animalia  Chordata  Aves  Passeriformes  Cardinalidae    Passerina   \n",
       "442  Animalia  Chordata  Aves  Passeriformes  Cardinalidae    Passerina   \n",
       "443  Animalia  Chordata  Aves  Passeriformes  Cardinalidae        Spiza   \n",
       "\n",
       "    Conservation status  Length Min (cm)  Length Max (cm)  Body Mass Min (g)  \\\n",
       "0                    LC             47.0             56.0              652.0   \n",
       "1                    LC             45.0             53.0              712.0   \n",
       "2                    LC             64.0             79.0             2050.0   \n",
       "3                    LC             57.3             64.0             1066.0   \n",
       "4                    LC             64.0             81.0             1930.0   \n",
       "..                  ...              ...              ...                ...   \n",
       "439                  LC             14.0             19.0               26.0   \n",
       "440                  LC             13.0             15.0               13.0   \n",
       "441                  LC             11.5             15.0               11.2   \n",
       "442                  LC             12.0             14.0               13.0   \n",
       "443                  LC             14.0             16.0               25.6   \n",
       "\n",
       "     Body Mass Max (g)  Wingspan Min (cm)  Wingspan Max (cm)  \n",
       "0               1020.0               76.0               94.0  \n",
       "1               1050.0               85.0               93.0  \n",
       "2               4050.0              135.0              165.0  \n",
       "3               1567.0              113.0              116.0  \n",
       "4               3310.0              130.0              165.0  \n",
       "..                 ...                ...                ...  \n",
       "439               31.5               26.0               29.0  \n",
       "440               18.0               22.0               22.0  \n",
       "441               21.4               18.0               23.0  \n",
       "442               19.0               21.0               23.0  \n",
       "443               38.4               24.8               26.0  \n",
       "\n",
       "[444 rows x 18 columns]"
      ]
     },
     "metadata": {},
     "output_type": "display_data"
    }
   ],
   "source": [
    "import pandas as pd\n",
    "import numpy as np\n",
    "\n",
    "df_birds = pd.read_csv(\"Minnesota Birds.csv\")\n",
    "df_birds.info()\n",
    "df_birds['Conservation status'] = df_birds[\"Conservation status\"].fillna(\"Undefined\")\n",
    "df_birds['State'] = df_birds[\"State\"].fillna(\"Undefined\")\n",
    "df_birds['Indicator or Other Notes'] = df_birds[\"Indicator or Other Notes\"].fillna(\"Undefined\")\n",
    "df_birds = df_birds.fillna(0)\n",
    "print(df_birds.info(), \"\\n\\n\")\n",
    "display(df_birds)"
   ]
  },
  {
   "cell_type": "markdown",
   "id": "c62cff20",
   "metadata": {},
   "source": [
    "**Moda**"
   ]
  },
  {
   "cell_type": "code",
   "execution_count": 45,
   "id": "92941a71",
   "metadata": {},
   "outputs": [
    {
     "name": "stdout",
     "output_type": "stream",
     "text": [
      "0    22.0\n",
      "dtype: float64\n"
     ]
    }
   ],
   "source": [
    "moda = round(df_birds['Wingspan Max (cm)'].mode(), 2)\n",
    "print(moda)"
   ]
  },
  {
   "cell_type": "markdown",
   "id": "ebd79d06",
   "metadata": {},
   "source": [
    "**Mediana**"
   ]
  },
  {
   "cell_type": "code",
   "execution_count": 46,
   "id": "7100373f",
   "metadata": {},
   "outputs": [
    {
     "name": "stdout",
     "output_type": "stream",
     "text": [
      "42.0\n"
     ]
    }
   ],
   "source": [
    "mediana = round(df_birds['Wingspan Max (cm)'].median(), 2)\n",
    "print(mediana)"
   ]
  },
  {
   "cell_type": "markdown",
   "id": "41dc0c0c",
   "metadata": {},
   "source": [
    "**Desviació standard**"
   ]
  },
  {
   "cell_type": "code",
   "execution_count": 47,
   "id": "e64d2e14",
   "metadata": {},
   "outputs": [
    {
     "name": "stdout",
     "output_type": "stream",
     "text": [
      "126.57\n"
     ]
    }
   ],
   "source": [
    "desv_std = round(df_birds['Wingspan Max (cm)'].std(), 2)\n",
    "print(desv_std)"
   ]
  },
  {
   "cell_type": "markdown",
   "id": "bbc23a8c",
   "metadata": {},
   "source": [
    "**Mitjana**"
   ]
  },
  {
   "cell_type": "code",
   "execution_count": 48,
   "id": "b99afd54",
   "metadata": {},
   "outputs": [
    {
     "name": "stdout",
     "output_type": "stream",
     "text": [
      "67.37\n"
     ]
    }
   ],
   "source": [
    "mitjana = round(df_birds['Wingspan Max (cm)'].mean(), 2)\n",
    "print(mitjana)"
   ]
  },
  {
   "cell_type": "markdown",
   "id": "b385d5b9",
   "metadata": {},
   "source": [
    "## Exercici 2\n",
    "Continuant amb les dades de tema esportiu, selecciona dos atributs i calcula'n la seva correlació"
   ]
  },
  {
   "cell_type": "code",
   "execution_count": 49,
   "id": "a517cdb2",
   "metadata": {},
   "outputs": [
    {
     "name": "stdout",
     "output_type": "stream",
     "text": [
      "0.42\n"
     ]
    }
   ],
   "source": [
    "corr_wingspan_bodyMass = round(df_birds['Wingspan Max (cm)'].corr(df_birds['Body Mass Max (g)']), 2)\n",
    "print(corr_wingspan_bodyMass)"
   ]
  },
  {
   "cell_type": "markdown",
   "id": "0c138070",
   "metadata": {},
   "source": [
    "## Exercici 3\n",
    "Continuant amb les dades de tema esportiu, calcula la correlació de tots els atributs entre sí i representa'ls en una matriu amb diferents colors d'intensitat"
   ]
  },
  {
   "cell_type": "code",
   "execution_count": 79,
   "id": "bd0065e7",
   "metadata": {},
   "outputs": [
    {
     "name": "stdout",
     "output_type": "stream",
     "text": [
      "                   Length Min (cm)  Length Max (cm)  Body Mass Min (g)  \\\n",
      "Length Min (cm)           1.000000         0.982286           0.813338   \n",
      "Length Max (cm)           0.982286         1.000000           0.824581   \n",
      "Body Mass Min (g)         0.813338         0.824581           1.000000   \n",
      "Body Mass Max (g)         0.833857         0.842874           0.933189   \n",
      "Wingspan Min (cm)         0.429893         0.443206           0.402160   \n",
      "Wingspan Max (cm)         0.430215         0.448445           0.411609   \n",
      "\n",
      "                   Body Mass Max (g)  Wingspan Min (cm)  Wingspan Max (cm)  \n",
      "Length Min (cm)             0.833857           0.429893           0.430215  \n",
      "Length Max (cm)             0.842874           0.443206           0.448445  \n",
      "Body Mass Min (g)           0.933189           0.402160           0.411609  \n",
      "Body Mass Max (g)           1.000000           0.405887           0.421299  \n",
      "Wingspan Min (cm)           0.405887           1.000000           0.992098  \n",
      "Wingspan Max (cm)           0.421299           0.992098           1.000000  \n"
     ]
    },
    {
     "data": {
      "image/png": "[encoded data removed]",
      "text/plain": [
       "<Figure size 432x288 with 2 Axes>"
      ]
     },
     "metadata": {
      "needs_background": "light"
     },
     "output_type": "display_data"
    }
   ],
   "source": [
    "import seaborn as sns\n",
    "import matplotlib.pyplot as plt\n",
    "\n",
    "corr_tot = df_birds.corr()\n",
    "print(corr_tot)\n",
    "\n",
    "sns.heatmap(corr_tot, cmap = \"cool\", linecolor= \"yellow\", linewidths=1) # colores elegidos para que se aprecien la graduaciones\n",
    "plt.show()"
   ]
  },
  {
   "cell_type": "markdown",
   "id": "b47f0b6d",
   "metadata": {},
   "source": [
    "## Exercici 4\n",
    "Continuant amb les dades de tema esportiu, selecciona un atribut i calcula la mitjana geomètrica i la mitjana harmònica"
   ]
  },
  {
   "cell_type": "markdown",
   "id": "71dd29ee",
   "metadata": {},
   "source": [
    "**Mitjana geomètrica**"
   ]
  },
  {
   "cell_type": "code",
   "execution_count": 56,
   "id": "4adb6394",
   "metadata": {},
   "outputs": [
    {
     "name": "stdout",
     "output_type": "stream",
     "text": [
      "123.04\n"
     ]
    }
   ],
   "source": [
    "from scipy import stats\n",
    "\n",
    "mitjana_geo = round(stats.gmean(df_birds['Body Mass Max (g)']), 2)\n",
    "print(mitjana_geo)"
   ]
  },
  {
   "cell_type": "markdown",
   "id": "5fe29b2e",
   "metadata": {},
   "source": [
    "**Mitjana harmònica**"
   ]
  },
  {
   "cell_type": "code",
   "execution_count": 57,
   "id": "f7f1a84a",
   "metadata": {},
   "outputs": [
    {
     "name": "stdout",
     "output_type": "stream",
     "text": [
      "36.49\n"
     ]
    }
   ],
   "source": [
    "mitjana_har = round(stats.hmean(df_birds['Body Mass Max (g)']), 2)\n",
    "print(mitjana_har)"
   ]
  },
  {
   "cell_type": "code",
   "execution_count": 80,
   "id": "58a36173",
   "metadata": {},
   "outputs": [
    {
     "name": "stdout",
     "output_type": "stream",
     "text": [
      "665.57\n"
     ]
    }
   ],
   "source": [
    "mitjana = round(df_birds['Body Mass Max (g)'].mean(), 2)\n",
    "print(mitjana)"
   ]
  },
  {
   "cell_type": "code",
   "execution_count": null,
   "id": "2ff86651",
   "metadata": {},
   "outputs": [],
   "source": []
  }
 ],
 "metadata": {
  "kernelspec": {
   "display_name": "Python 3 (ipykernel)",
   "language": "python",
   "name": "python3"
  },
  "language_info": {
   "codemirror_mode": {
    "name": "ipython",
    "version": 3
   },
   "file_extension": ".py",
   "mimetype": "text/x-python",
   "name": "python",
   "nbconvert_exporter": "python",
   "pygments_lexer": "ipython3",
   "version": "3.9.7"
  }
 },
 "nbformat": 4,
 "nbformat_minor": 5
}
